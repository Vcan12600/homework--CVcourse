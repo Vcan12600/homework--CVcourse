{
 "cells": [
  {
   "cell_type": "code",
   "execution_count": null,
   "id": "a751698b",
   "metadata": {},
   "outputs": [],
   "source": [
    "import cv2\n",
    "import numpy as np\n",
    "image_path = r\"left.png\"\n",
    "image_path1 = r\"right.png\"\n",
    "\n",
    "# 读入图片\n",
    "left = cv2.imread(image_path)\n",
    "right = cv2.imread(image_path1)\n",
    "left = cv2.resize(left, fx=0.5, fy=0.5, dsize=None)\n",
    "right = cv2.resize(right, fx=0.5, fy=0.5, dsize=None)\n",
    "\n",
    "# SIFT算子获得关键点和描述子\n",
    "sift = cv2.SIFT_create()\n",
    "KeyPoints_L, descriptors_L = sift.detectAndCompute(left, None)\n",
    "KeyPoints_R, descriptors_R = sift.detectAndCompute(right, None)\n",
    "KeyPoints_L = np.float32([kp.pt for kp in KeyPoints_L])\n",
    "KeyPoints_R = np.float32([kp.pt for kp in KeyPoints_R])\n",
    "\n",
    "# 匹配描述子，并找到描述子对应的关键点\n",
    "bf = cv2.BFMatcher(crossCheck=True)\n",
    "matches = bf.match(descriptors_L, descriptors_R)\n",
    "matches = sorted(matches, key=lambda x: x.distance)\n",
    "matches = matches[: 40]\n",
    "PointIdx = []\n",
    "for m in matches:\n",
    "    PointIdx.append((m.trainIdx, m.queryIdx))\n",
    "ptsL = np.float32([KeyPoints_L[i] for (_, i) in PointIdx])\n",
    "ptsR = np.float32([KeyPoints_R[i] for (i, _) in PointIdx])\n",
    "\n",
    "# 计算单应矩阵，将右边图片投影到左边图片的坐标系下\n",
    "H, status = cv2.findHomography(ptsR, ptsL, cv2.RANSAC)\n",
    "result = cv2.warpPerspective(right, H, (right.shape[1] + left.shape[1], right.shape[0]))\n",
    "result_clip = result[0:left.shape[0], 0:left.shape[1]]\n",
    "left_fuse = result_clip\n",
    "\n",
    "# 做像素融合\n",
    "(cols, rows) = (left.shape[0], left.shape[1])\n",
    "for row in range(0, rows-1):\n",
    "    for col in range(0, cols-1):\n",
    "        if result_clip[col][row].any() != 0:\n",
    "            left_fuse[col][row] = 0.1*result_clip[col][row] + 0.9*left[col][row]\n",
    "        else:\n",
    "            left_fuse[col][row] = left[col][row]\n",
    "\n",
    "result[0:left.shape[0], 0:left.shape[1]] = left_fuse\n",
    "cv2.imshow('image', result)\n",
    "cv2.waitKey(0)\n",
    "cv2.destroyAllWindows()\n",
    "\n",
    "\n"
   ]
  }
 ],
 "metadata": {
  "kernelspec": {
   "display_name": "Python [conda env:pytorch] *",
   "language": "python",
   "name": "conda-env-pytorch-py"
  },
  "language_info": {
   "codemirror_mode": {
    "name": "ipython",
    "version": 3
   },
   "file_extension": ".py",
   "mimetype": "text/x-python",
   "name": "python",
   "nbconvert_exporter": "python",
   "pygments_lexer": "ipython3",
   "version": "3.9.18"
  }
 },
 "nbformat": 4,
 "nbformat_minor": 5
}
